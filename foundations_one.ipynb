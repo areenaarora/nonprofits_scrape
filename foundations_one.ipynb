{
 "cells": [
  {
   "cell_type": "code",
   "execution_count": 1,
   "id": "ac9e0b98",
   "metadata": {},
   "outputs": [],
   "source": [
    "import requests\n",
    "from bs4 import BeautifulSoup\n",
    "\n",
    "url = \"https://projects.propublica.org/nonprofits/search?adv_search=1&state%5Bid%5D=TN&ntee%5Bid%5D=&c_code%5Bid%5D=&q_all=&q_phrase=&q_any=&q_none=&city=Knoxville\"\n",
    "\n",
    "# Send a GET request to the URL\n",
    "response = requests.get(url)\n",
    "\n",
    "if response.status_code == 200:\n",
    "    soup = BeautifulSoup(response.content, \"html.parser\")\n",
    "\n",
    "    # Find the relevant HTML elements that contain the data\n",
    "    data_elements = soup.find_all(\"div\", class_=\"search-result\")\n",
    "\n",
    "    # Process and extract the data\n",
    "    for element in data_elements:\n",
    "        # Extract the data you need from 'element' using BeautifulSoup's methods\n",
    "        # For example:\n",
    "        organization_name = element.find(\"h3\", class_=\"search-heading\").text\n",
    "        # Extract other relevant data similarly\n",
    "\n",
    "        print(\"Organization Name:\", organization_name)\n",
    "        # Print other data points\n",
    "\n",
    "else:\n",
    "    print(\"Failed to retrieve the web page\")"
   ]
  },
  {
   "cell_type": "code",
   "execution_count": 10,
   "id": "693b928b",
   "metadata": {},
   "outputs": [
    {
     "ename": "SyntaxError",
     "evalue": "invalid syntax (3131240533.py, line 2)",
     "output_type": "error",
     "traceback": [
      "\u001b[0;36m  File \u001b[0;32m\"/var/folders/81/2s24wkdd02j9528vnjsx7m080000gn/T/ipykernel_78750/3131240533.py\"\u001b[0;36m, line \u001b[0;32m2\u001b[0m\n\u001b[0;31m    else:\u001b[0m\n\u001b[0m    ^\u001b[0m\n\u001b[0;31mSyntaxError\u001b[0m\u001b[0;31m:\u001b[0m invalid syntax\n"
     ]
    }
   ],
   "source": [
    "if response.status_code == 200:\n",
    "    else:\n",
    "        print(\"Failed to retrieve the web page. Status code:\", response.status_code)"
   ]
  },
  {
   "cell_type": "code",
   "execution_count": 12,
   "id": "759e9883",
   "metadata": {},
   "outputs": [],
   "source": [
    "import requests\n",
    "from bs4 import BeautifulSoup"
   ]
  },
  {
   "cell_type": "code",
   "execution_count": 13,
   "id": "5a8f822a",
   "metadata": {},
   "outputs": [],
   "source": [
    "url = \"https://projects.propublica.org/nonprofits/search?adv_search=1&state%5Bid%5D=TN&ntee%5Bid%5D=&c_code%5Bid%5D=&q_all=&q_phrase=&q_any=&q_none=&city=Knoxville\"\n",
    "\n",
    "response = requests.get(url)\n",
    "\n",
    "if response.status_code == 200:\n",
    "    soup = BeautifulSoup(response.content, \"html.parser\")\n",
    "\n",
    "    # Find all the search results\n",
    "    search_results = soup.find_all(\"div\", class_=\"search-result\")\n",
    "\n",
    "    for result in search_results:\n",
    "        organization_name = result.find(\"h2\", class_=\"search-heading\").text.strip()\n",
    "        organization_address = result.find(\"p\", class_=\"street-address\").text.strip()\n",
    "        organization_city = result.find(\"p\", class_=\"city-state-zip\").text.strip()\n",
    "\n",
    "        print(\"Organization:\", organization_name)\n",
    "        print(\"Address:\", organization_address)\n",
    "        print(\"City:\", organization_city)\n",
    "        print(\"=\" * 30)\n",
    "\n",
    "else:\n",
    "    print(\"Failed to retrieve the web page. Status code:\", response.status_code)"
   ]
  },
  {
   "cell_type": "code",
   "execution_count": null,
   "id": "ddbe090e",
   "metadata": {},
   "outputs": [],
   "source": []
  }
 ],
 "metadata": {
  "kernelspec": {
   "display_name": "Python 3 (ipykernel)",
   "language": "python",
   "name": "python3"
  },
  "language_info": {
   "codemirror_mode": {
    "name": "ipython",
    "version": 3
   },
   "file_extension": ".py",
   "mimetype": "text/x-python",
   "name": "python",
   "nbconvert_exporter": "python",
   "pygments_lexer": "ipython3",
   "version": "3.10.0"
  }
 },
 "nbformat": 4,
 "nbformat_minor": 5
}
