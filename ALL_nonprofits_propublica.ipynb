{
 "cells": [
  {
   "cell_type": "code",
   "execution_count": 1,
   "metadata": {},
   "outputs": [],
   "source": [
    "import requests\n",
    "from bs4 import BeautifulSoup"
   ]
  },
  {
   "cell_type": "code",
   "execution_count": 2,
   "metadata": {},
   "outputs": [],
   "source": [
    "# headers = [\"company_name\", \"location\", \"classification\", \"revenue\"]\n",
    "\n",
    "def get_non_profits(href):\n",
    "    all_nonprofits_data = []\n",
    "    response = requests.get(href)\n",
    "    if response.status_code == 200:\n",
    "        soup = BeautifulSoup(response.content, \"html.parser\")\n",
    "\n",
    "    data_elements = soup.find(\"table\", id=\"search-results\")\n",
    "    children = data_elements.findChildren(\"tr\", recursive=True)\n",
    "\n",
    "    for row in children[1:]:\n",
    "        columns = row.findChildren(\"td\")\n",
    "        row_data = {}\n",
    "        row_data[\"company_name\"] = columns[0].contents[0].strip()\n",
    "        row_data[\"location\"] = columns[1].contents[0].strip()\n",
    "        row_data[\"classification\"] = columns[2].contents[0].strip()\n",
    "        row_data[\"revenue\"] = columns[3].contents[0].strip()        \n",
    "        all_nonprofits_data.append(row_data)\n",
    "#         for cell in columns:\n",
    "#             print(cell.contents[0].strip())\n",
    "    \n",
    "    return all_nonprofits_data"
   ]
  },
  {
   "cell_type": "code",
   "execution_count": 3,
   "metadata": {},
   "outputs": [
    {
     "ename": "UnboundLocalError",
     "evalue": "local variable 'soup' referenced before assignment",
     "output_type": "error",
     "traceback": [
      "\u001b[0;31m---------------------------------------------------------------------------\u001b[0m",
      "\u001b[0;31mUnboundLocalError\u001b[0m                         Traceback (most recent call last)",
      "\u001b[0;32m/var/folders/81/2s24wkdd02j9528vnjsx7m080000gn/T/ipykernel_32143/65076298.py\u001b[0m in \u001b[0;36m<module>\u001b[0;34m\u001b[0m\n\u001b[1;32m      5\u001b[0m \u001b[0;32mfor\u001b[0m \u001b[0meach_page\u001b[0m \u001b[0;32min\u001b[0m \u001b[0mpage_numbers\u001b[0m\u001b[0;34m:\u001b[0m\u001b[0;34m\u001b[0m\u001b[0;34m\u001b[0m\u001b[0m\n\u001b[1;32m      6\u001b[0m     \u001b[0mhref\u001b[0m \u001b[0;34m=\u001b[0m \u001b[0;34m\"    https://projects.propublica.org/nonprofits/search?adv_search=1&c_code%5Bid%5D=&city=&ntee%5Bid%5D=&page=\"\u001b[0m \u001b[0;34m+\u001b[0m \u001b[0meach_page\u001b[0m \u001b[0;34m+\u001b[0m \u001b[0;34m\"&q_all=&q_any=&q_none=&q_phrase=&state%5Bid%5D=TN\"\u001b[0m\u001b[0;34m\u001b[0m\u001b[0;34m\u001b[0m\u001b[0m\n\u001b[0;32m----> 7\u001b[0;31m     \u001b[0mnonprofits_list\u001b[0m \u001b[0;34m=\u001b[0m \u001b[0mget_non_profits\u001b[0m\u001b[0;34m(\u001b[0m\u001b[0mhref\u001b[0m\u001b[0;34m)\u001b[0m\u001b[0;34m\u001b[0m\u001b[0;34m\u001b[0m\u001b[0m\n\u001b[0m\u001b[1;32m      8\u001b[0m \u001b[0;31m#     print(nonprofits_list)\u001b[0m\u001b[0;34m\u001b[0m\u001b[0;34m\u001b[0m\u001b[0m\n\u001b[1;32m      9\u001b[0m \u001b[0;34m\u001b[0m\u001b[0m\n",
      "\u001b[0;32m/var/folders/81/2s24wkdd02j9528vnjsx7m080000gn/T/ipykernel_32143/1533903930.py\u001b[0m in \u001b[0;36mget_non_profits\u001b[0;34m(href)\u001b[0m\n\u001b[1;32m      7\u001b[0m         \u001b[0msoup\u001b[0m \u001b[0;34m=\u001b[0m \u001b[0mBeautifulSoup\u001b[0m\u001b[0;34m(\u001b[0m\u001b[0mresponse\u001b[0m\u001b[0;34m.\u001b[0m\u001b[0mcontent\u001b[0m\u001b[0;34m,\u001b[0m \u001b[0;34m\"html.parser\"\u001b[0m\u001b[0;34m)\u001b[0m\u001b[0;34m\u001b[0m\u001b[0;34m\u001b[0m\u001b[0m\n\u001b[1;32m      8\u001b[0m \u001b[0;34m\u001b[0m\u001b[0m\n\u001b[0;32m----> 9\u001b[0;31m     \u001b[0mdata_elements\u001b[0m \u001b[0;34m=\u001b[0m \u001b[0msoup\u001b[0m\u001b[0;34m.\u001b[0m\u001b[0mfind\u001b[0m\u001b[0;34m(\u001b[0m\u001b[0;34m\"table\"\u001b[0m\u001b[0;34m,\u001b[0m \u001b[0mid\u001b[0m\u001b[0;34m=\u001b[0m\u001b[0;34m\"search-results\"\u001b[0m\u001b[0;34m)\u001b[0m\u001b[0;34m\u001b[0m\u001b[0;34m\u001b[0m\u001b[0m\n\u001b[0m\u001b[1;32m     10\u001b[0m     \u001b[0mchildren\u001b[0m \u001b[0;34m=\u001b[0m \u001b[0mdata_elements\u001b[0m\u001b[0;34m.\u001b[0m\u001b[0mfindChildren\u001b[0m\u001b[0;34m(\u001b[0m\u001b[0;34m\"tr\"\u001b[0m\u001b[0;34m,\u001b[0m \u001b[0mrecursive\u001b[0m\u001b[0;34m=\u001b[0m\u001b[0;32mTrue\u001b[0m\u001b[0;34m)\u001b[0m\u001b[0;34m\u001b[0m\u001b[0;34m\u001b[0m\u001b[0m\n\u001b[1;32m     11\u001b[0m \u001b[0;34m\u001b[0m\u001b[0m\n",
      "\u001b[0;31mUnboundLocalError\u001b[0m: local variable 'soup' referenced before assignment"
     ]
    }
   ],
   "source": [
    "all_nonprofits = []\n",
    "\n",
    "max_number = 100\n",
    "page_numbers = [str(x) for x in range(max_number + 1)]\n",
    "for each_page in page_numbers:\n",
    "    href = \"    https://projects.propublica.org/nonprofits/search?adv_search=1&c_code%5Bid%5D=&city=&ntee%5Bid%5D=&page=\" + each_page + \"&q_all=&q_any=&q_none=&q_phrase=&state%5Bid%5D=TN\"    \n",
    "    nonprofits_list = get_non_profits(href)\n",
    "#     print(nonprofits_list)\n",
    "\n",
    "    all_nonprofits.extend(nonprofits_list)"
   ]
  },
  {
   "cell_type": "code",
   "execution_count": null,
   "metadata": {},
   "outputs": [],
   "source": [
    "import pandas as pd\n",
    "df = pd.DataFrame(all_nonprofits)\n",
    "df.head(10)"
   ]
  },
  {
   "cell_type": "code",
   "execution_count": null,
   "metadata": {},
   "outputs": [],
   "source": [
    "# df.to_csv('nonprofits_ed.csv')"
   ]
  },
  {
   "cell_type": "code",
   "execution_count": null,
   "metadata": {},
   "outputs": [],
   "source": []
  }
 ],
 "metadata": {
  "kernelspec": {
   "display_name": "Python 3 (ipykernel)",
   "language": "python",
   "name": "python3"
  },
  "language_info": {
   "codemirror_mode": {
    "name": "ipython",
    "version": 3
   },
   "file_extension": ".py",
   "mimetype": "text/x-python",
   "name": "python",
   "nbconvert_exporter": "python",
   "pygments_lexer": "ipython3",
   "version": "3.10.0"
  }
 },
 "nbformat": 4,
 "nbformat_minor": 2
}
