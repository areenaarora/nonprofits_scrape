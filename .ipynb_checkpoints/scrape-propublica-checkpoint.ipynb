{
 "cells": [
  {
   "cell_type": "code",
   "execution_count": null,
   "metadata": {},
   "outputs": [],
   "source": [
    "import requests\n",
    "from bs4 import BeautifulSoup"
   ]
  },
  {
   "cell_type": "code",
   "execution_count": null,
   "metadata": {},
   "outputs": [],
   "source": [
    "def get_non_profits(href):\n",
    "    if response.status_code == 200:\n",
    "        soup = BeautifulSoup(response.content, \"html.parser\")\n",
    "\n",
    "    data_elements = soup.find(\"table\", id=\"search-results\")\n",
    "    children = data_elements.findChildren(\"tr\", recursive=True)\n",
    "\n",
    "    for row in children[1:]:\n",
    "        columns = row.findChildren(\"td\")\n",
    "        for cell in columns:\n",
    "            print(cell.contents[0].strip())\n",
    "\n",
    "        print(\"====\")\n",
    "    \n",
    "    return all_nonprofits_data"
   ]
  },
  {
   "cell_type": "code",
   "execution_count": null,
   "metadata": {},
   "outputs": [],
   "source": [
    "all_nonprofits = []\n",
    "page_numbers = [\n",
    "    \"1\",\n",
    "    \"2\",\n",
    "    \"3\",\"4\",\"5\", \"6\", \"7\", \"8\", \"9\", \"10\", \"11\", \"12\", \"13\", \"14\", \"15\", \"16\", \"17\", \"18\", \"19\", \"20\", \"21\", \"22\", \"23\", \"24\", \"25\", \"26\", \"27\", \"28\", \"29\", \"30\", \"31\", \"32\"]\n",
    "for each_page in page_numbers:\n",
    "    href = \"https://projects.propublica.org/nonprofits/search?adv_search=1&c_code%5Bid%5D=&city=&ntee%5Bid%5D=2&page=\" + each_page + \"&q_all=&q_any=&q_none=&q_phrase=&state%5Bid%5D=TN\"\n",
    "    nonprofits_list = get_non_profits(href)\n",
    "    print(nonprofits_list[0:3])\n",
    "\n",
    "    all_nonprofits.extend(nonprofits_list)"
   ]
  }
 ],
 "metadata": {
  "kernelspec": {
   "display_name": "Python 3 (ipykernel)",
   "language": "python",
   "name": "python3"
  },
  "language_info": {
   "codemirror_mode": {
    "name": "ipython",
    "version": 3
   },
   "file_extension": ".py",
   "mimetype": "text/x-python",
   "name": "python",
   "nbconvert_exporter": "python",
   "pygments_lexer": "ipython3",
   "version": "3.10.0"
  }
 },
 "nbformat": 4,
 "nbformat_minor": 2
}
